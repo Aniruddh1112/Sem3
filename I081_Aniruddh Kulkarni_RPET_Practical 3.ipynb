{
 "cells": [
  {
   "cell_type": "markdown",
   "metadata": {},
   "source": [
    "# Name: Aniruddh Kulkarni"
   ]
  },
  {
   "cell_type": "markdown",
   "metadata": {},
   "source": [
    "# Roll No: I081"
   ]
  },
  {
   "cell_type": "markdown",
   "metadata": {},
   "source": [
    "# Batch: C3"
   ]
  },
  {
   "cell_type": "markdown",
   "metadata": {},
   "source": [
    "# Semester: III Semester"
   ]
  },
  {
   "cell_type": "markdown",
   "metadata": {},
   "source": [
    "# Branch: CS(AI)"
   ]
  },
  {
   "cell_type": "markdown",
   "metadata": {},
   "source": [
    "# Date of Experiment: 31-07-2021"
   ]
  },
  {
   "cell_type": "markdown",
   "metadata": {},
   "source": [
    "# Subject: Random Processes and Estimation Techniques\n",
    "\n",
    "\n",
    "\n",
    "**: Aim of the experiment**\n",
    "\n",
    "1.  Write a program to generate Joint Prob. Distribution table  of the following Joint PMF,\n",
    "\n",
    " $$ f(x)=\\frac{x^2y}{140} $$           \n",
    "\n",
    "Further obtain,\n",
    "\n",
    "\n",
    "\n",
    "a.  Marginal PMF of x and y\n",
    "\n",
    "\n",
    "\n",
    "b.  Mean and variance of x and y\n",
    "\n",
    "\n",
    "\n",
    "c.  Coefficient of correlation"
   ]
  },
  {
   "cell_type": "markdown",
   "metadata": {},
   "source": [
    "# Write a program to generate Joint Prob. Distribution table of the following \n",
    "\n",
    "Joint PMF, \n",
    "\n",
    "$$ f(x)=\\frac{x^2 y}{140} $$\n",
    "\n",
    "$$ x = 1,2,3 \\hspace{10mm} y = 1,2,3,4$$\n",
    "Further obtain,\n",
    "\n",
    "a. Marginal PMF of x and y\n",
    "\n",
    "b. Mean and variance of x and y\n",
    "\n",
    "c. Coefficient of correlation"
   ]
  },
  {
   "cell_type": "code",
   "execution_count": 35,
   "metadata": {},
   "outputs": [],
   "source": [
    "import numpy as np"
   ]
  },
  {
   "cell_type": "code",
   "execution_count": 36,
   "metadata": {},
   "outputs": [],
   "source": [
    "def matrix(p,q):\n",
    "    global z\n",
    "    z=np.zeros((p,q))\n",
    "    for x in range(p):\n",
    "        for y in range(q):\n",
    "            z[x,y]=(((x+1)**2)*(y+1))/140\n",
    "    print(z)\n",
    "    print('sum of matrix elements=',np.sum(z))\n",
    "    "
   ]
  },
  {
   "cell_type": "markdown",
   "metadata": {},
   "source": [
    "# a. Marginal PMF of x and y"
   ]
  },
  {
   "cell_type": "code",
   "execution_count": 37,
   "metadata": {},
   "outputs": [],
   "source": [
    "# pmf_y=np.sum(z,axis=0) \n",
    "# pmf_x=np.sum(z,axis=1) \n",
    "def pmfx():\n",
    "    global pmf_x\n",
    "    pmf_x=np.sum(z,axis=1)\n",
    "    print('PMF(X) is as Follows=')\n",
    "    print(\"x : p(x)\")\n",
    "    for i,x in enumerate(pmf_x):\n",
    "        print(i,':',np.round_(x,decimals=2))\n",
    "        print('\\n')\n",
    "    return ''\n",
    "\n",
    "def pmfy():\n",
    "    global pmf_y\n",
    "    print('PMF(Y) is as Follows=')\n",
    "    pmf_y=np.sum(z,axis=0)\n",
    "    print(\"y : p(y)\")\n",
    "    for i,y in enumerate(pmf_y):\n",
    "        print(i,':',np.round_(y,decimals=2))\n",
    "    return ''"
   ]
  },
  {
   "cell_type": "markdown",
   "metadata": {},
   "source": [
    "# b. Mean and Variance of x and y"
   ]
  },
  {
   "cell_type": "code",
   "execution_count": 38,
   "metadata": {},
   "outputs": [],
   "source": [
    "def mve():\n",
    "    #mean and variance of x\n",
    "    global m_x \n",
    "    global var_x\n",
    "    m_x=0 \n",
    "    ex_x=0\n",
    "    var_x=0\n",
    "    for i in range(1,4):\n",
    "        m_x+= (i*pmf_x[i-1])\n",
    "        ex_x+= (i*i*pmf_x[i-1]) \n",
    "        var_x = ex_x-(m_x**2)\n",
    "    print(\"mean       of x:\", np.round(m_x,decimals=3))\n",
    "    print(\"Expectance of x:\", np.round(ex_x,decimals=3))\n",
    "    print(\"variance   of x:\",np.round(var_x,decimals=3))\n",
    "\n",
    "    print('\\t')\n",
    "    \n",
    "    #mean and variance of y\n",
    "    global m_y \n",
    "    global var_y\n",
    "    m_y=0 \n",
    "    ex_y=0\n",
    "    var_y=0\n",
    "    for i in range(1,5):\n",
    "        m_y+= (i*pmf_y[i-1])\n",
    "        ex_y+= (i*i*pmf_y[i-1]) \n",
    "        var_y = ex_y-(m_y**2)\n",
    "    print(\"mean       of y:\", np.round(m_y,decimals=3))\n",
    "    print(\"Expectance of y:\", np.round(ex_y,decimals=3))\n",
    "    print(\"variance   of y:\", np.round(var_y,decimals=3))"
   ]
  },
  {
   "cell_type": "markdown",
   "metadata": {},
   "source": [
    "# c. Coefficient of correlation \n",
    "\n",
    "$$r = \\frac{E(xy) - E(x)E(y)}{(V(x)V(y))^{1/2}}$$"
   ]
  },
  {
   "cell_type": "code",
   "execution_count": 39,
   "metadata": {},
   "outputs": [],
   "source": [
    "def corr():\n",
    "    global m_x\n",
    "    global m_y\n",
    "    global var_x\n",
    "    global var_y\n",
    "    global E_xy\n",
    "    global e_xy\n",
    "    global r\n",
    "    E_xy=0\n",
    "    for (x,y), pmf_xy in np.ndenumerate(z):\n",
    "        e_xy = (x+1)*(y+1)*pmf_xy\n",
    "        E_xy+=e_xy\n",
    "    #correlation    \n",
    "    print(\"correlation of X:\",np.round(E_xy,decimals=3))\n",
    "    # COefficient\n",
    "    r = (E_xy-m_x*m_y)/(np.sqrt(var_x)*np.sqrt(var_y))\n",
    "    print(r)"
   ]
  },
  {
   "cell_type": "code",
   "execution_count": 40,
   "metadata": {},
   "outputs": [
    {
     "name": "stdout",
     "output_type": "stream",
     "text": [
      "choose choice: \n",
      " 0. Matix \n",
      " 1.Pmf(x) \n",
      " 2.Pmf(y) \n",
      " 3.Mean,Variance,Expectance \n",
      " 4.Correlation0\n",
      "Enter value for x in matrix=3\n",
      "Enter value for y in matrix=4\n",
      "[[0.00714286 0.01428571 0.02142857 0.02857143]\n",
      " [0.02857143 0.05714286 0.08571429 0.11428571]\n",
      " [0.06428571 0.12857143 0.19285714 0.25714286]]\n",
      "sum of matrix elements= 0.9999999999999999\n"
     ]
    }
   ],
   "source": [
    "# Menu Driven Code\n",
    "ch=int(input('choose choice: \\n 0. Matix \\n 1.Pmf(x) \\n 2.Pmf(y) \\n 3.Mean,Variance,Expectance \\n 4.Correlation'))\n",
    "if (ch==0):\n",
    "    p=int(input('Enter value for x in matrix='))\n",
    "    q =int(input('Enter value for y in matrix='))\n",
    "    matrix(p,q)           \n",
    "elif (ch==1):\n",
    "    pmfx()\n",
    "elif (ch==2):\n",
    "    pmfy()\n",
    "elif (ch==3):\n",
    "    mve()\n",
    "elif (ch==4):\n",
    "    corr()\n",
    "else:\n",
    "    quit()"
   ]
  },
  {
   "cell_type": "code",
   "execution_count": 41,
   "metadata": {},
   "outputs": [
    {
     "name": "stdout",
     "output_type": "stream",
     "text": [
      "PMF(X) is as Follows=\n",
      "x : p(x)\n",
      "0 : 0.07\n",
      "\n",
      "\n",
      "1 : 0.29\n",
      "\n",
      "\n",
      "2 : 0.64\n",
      "\n",
      "\n",
      "PMF(Y) is as Follows=\n",
      "y : p(y)\n",
      "0 : 0.1\n",
      "1 : 0.2\n",
      "2 : 0.3\n",
      "3 : 0.4\n",
      "\n",
      "\n",
      "mean       of x: 2.571\n",
      "Expectance of x: 7.0\n",
      "variance   of x: 0.388\n",
      "\t\n",
      "mean       of y: 3.0\n",
      "Expectance of y: 10.0\n",
      "variance   of y: 1.0\n",
      "\n",
      "\n",
      "correlation of X: 7.714\n",
      "0.0\n"
     ]
    }
   ],
   "source": [
    "pmfx()\n",
    "pmfy()\n",
    "print('\\n')\n",
    "mve()\n",
    "print('\\n')\n",
    "corr()"
   ]
  },
  {
   "cell_type": "markdown",
   "metadata": {},
   "source": [
    "# Conclusion\n",
    "\n",
    "I understood Marginal PMF, Mean & Variance and also the coefficient of correlation and implemented them using python.\n",
    "\n",
    "I also learnt to use Numpy modules to create 2D arrays \n",
    "\n"
   ]
  }
 ],
 "metadata": {
  "kernelspec": {
   "display_name": "Python 3",
   "language": "python",
   "name": "python3"
  },
  "language_info": {
   "codemirror_mode": {
    "name": "ipython",
    "version": 3
   },
   "file_extension": ".py",
   "mimetype": "text/x-python",
   "name": "python",
   "nbconvert_exporter": "python",
   "pygments_lexer": "ipython3",
   "version": "3.8.5"
  }
 },
 "nbformat": 4,
 "nbformat_minor": 4
}
