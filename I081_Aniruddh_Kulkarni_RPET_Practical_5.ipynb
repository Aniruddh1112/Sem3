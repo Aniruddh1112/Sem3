{
 "cells": [
  {
   "cell_type": "markdown",
   "metadata": {
    "id": "VYF69HOALrPi"
   },
   "source": [
    "### Name: Aniruddh Kulkarni"
   ]
  },
  {
   "cell_type": "markdown",
   "metadata": {
    "id": "W-RkhRqcL8vZ"
   },
   "source": [
    "### Roll No: I081"
   ]
  },
  {
   "cell_type": "markdown",
   "metadata": {
    "id": "XD9DGYQXMAgl"
   },
   "source": [
    "### Batch: C3"
   ]
  },
  {
   "cell_type": "markdown",
   "metadata": {
    "id": "M0w7KZRbMEIF"
   },
   "source": [
    "### Semester: III Semester"
   ]
  },
  {
   "cell_type": "markdown",
   "metadata": {
    "id": "ms9FuR_PMH1n"
   },
   "source": [
    "### Date of experiment: 14-08-21"
   ]
  },
  {
   "cell_type": "markdown",
   "metadata": {
    "id": "AvQ1TchOMMlc"
   },
   "source": [
    "### Subject: Random Process and Estimation Techniques "
   ]
  },
  {
   "cell_type": "markdown",
   "metadata": {
    "id": "qRViIhJAdGzN"
   },
   "source": [
    "# AIM: \n",
    "### Write a program to\n",
    "### 1. Generate a sinusoidal signal and plot it\n",
    "### 2. Find the autocorrelation function of the signal with itself and verify the properties of autocorrelation using plots\n",
    "\n",
    "### 3. Add a noise signal with original signal and plot it\n",
    "### 4. Find the cross-correlation function of the signal with noisy signal and verify the properties of crosscorrelation using plots\n",
    "\n",
    "### 5. Repeat 1-2/3-4 for any other signal of your choice"
   ]
  },
  {
   "cell_type": "markdown",
   "metadata": {
    "id": "NcN0gWHrhpeY"
   },
   "source": [
    "### Q.1"
   ]
  },
  {
   "cell_type": "markdown",
   "metadata": {
    "id": "WPdsJGPihtva"
   },
   "source": [
    "### 1. Generate a sinusoidal signal and plot it"
   ]
  },
  {
   "cell_type": "code",
   "execution_count": null,
   "metadata": {
    "id": "h24bxgWSiWUs"
   },
   "outputs": [],
   "source": [
    "import numpy as np"
   ]
  },
  {
   "cell_type": "code",
   "execution_count": null,
   "metadata": {
    "id": "m7rq7qw9inS-"
   },
   "outputs": [],
   "source": [
    "import matplotlib.pyplot as plt "
   ]
  },
  {
   "cell_type": "code",
   "execution_count": null,
   "metadata": {
    "id": "ODmtKbuhcnfr"
   },
   "outputs": [],
   "source": [
    "x = np.linspace(0,10*np.pi, 1024)\n",
    "y = np.sin(x)"
   ]
  },
  {
   "cell_type": "code",
   "execution_count": null,
   "metadata": {
    "colab": {
     "base_uri": "https://localhost:8080/",
     "height": 312
    },
    "id": "_J95YuHJkMKN",
    "outputId": "5f735c91-9fe4-46dc-d99c-c6355fce11f0"
   },
   "outputs": [
    {
     "data": {
      "text/plain": [
       "Text(0.5, 1.0, 'Sinusoidal Signal')"
      ]
     },
     "execution_count": 25,
     "metadata": {
      "tags": []
     },
     "output_type": "execute_result"
    },
    {
     "data": {
      "image/png": "[encoded data removed]",
      "text/plain": [
       "<Figure size 432x288 with 1 Axes>"
      ]
     },
     "metadata": {
      "needs_background": "light",
      "tags": []
     },
     "output_type": "display_data"
    }
   ],
   "source": [
    "plt.plot(x,y)\n",
    "plt.xlabel('time--->')\n",
    "plt.ylabel('magnitude--->')\n",
    "plt.title('Sinusoidal Signal')"
   ]
  },
  {
   "cell_type": "markdown",
   "metadata": {
    "id": "BjHuse7TkgS3"
   },
   "source": [
    "### Q.2"
   ]
  },
  {
   "cell_type": "markdown",
   "metadata": {
    "id": "iNSVmfvskoJl"
   },
   "source": [
    "### 2. Find the autocorrelation function of the signal with itself and verify the properties of autocorrelation using plots\n"
   ]
  },
  {
   "cell_type": "code",
   "execution_count": null,
   "metadata": {
    "colab": {
     "base_uri": "https://localhost:8080/"
    },
    "id": "iewm89Xmkt5L",
    "outputId": "4a49e825-a9bb-4c04-a4a3-af685b4d235d"
   },
   "outputs": [
    {
     "data": {
      "text/plain": [
       "(1024,)"
      ]
     },
     "execution_count": 26,
     "metadata": {
      "tags": []
     },
     "output_type": "execute_result"
    }
   ],
   "source": [
    "y.shape"
   ]
  },
  {
   "cell_type": "code",
   "execution_count": null,
   "metadata": {
    "id": "y3qVXJfOkwPY"
   },
   "outputs": [],
   "source": [
    "r = np.correlate(y,y,mode = 'full')"
   ]
  },
  {
   "cell_type": "code",
   "execution_count": null,
   "metadata": {
    "colab": {
     "base_uri": "https://localhost:8080/"
    },
    "id": "jH5fd0BTk5h5",
    "outputId": "e8998a59-8dec-4d94-9d94-824e4b1be568"
   },
   "outputs": [
    {
     "data": {
      "text/plain": [
       "(2047,)"
      ]
     },
     "execution_count": 28,
     "metadata": {
      "tags": []
     },
     "output_type": "execute_result"
    }
   ],
   "source": [
    "r.shape"
   ]
  },
  {
   "cell_type": "code",
   "execution_count": null,
   "metadata": {
    "colab": {
     "base_uri": "https://localhost:8080/"
    },
    "id": "kfXOC0lck71_",
    "outputId": "47819afc-ce6f-4a18-fed9-0ff319de5b09"
   },
   "outputs": [
    {
     "data": {
      "text/plain": [
       "2047"
      ]
     },
     "execution_count": 29,
     "metadata": {
      "tags": []
     },
     "output_type": "execute_result"
    }
   ],
   "source": [
    "2*len(y)-1 #the length of autocorrelation function 2*len(signal)-1"
   ]
  },
  {
   "cell_type": "code",
   "execution_count": null,
   "metadata": {
    "id": "0dueNmqL73ja"
   },
   "outputs": [],
   "source": [
    "m = np.linspace(-2*np.pi, 2*np.pi, 2*len(y)-1)"
   ]
  },
  {
   "cell_type": "code",
   "execution_count": null,
   "metadata": {
    "colab": {
     "base_uri": "https://localhost:8080/",
     "height": 316
    },
    "id": "Dsa4L7gAlObB",
    "outputId": "20e3d82e-aa80-4b63-b677-5175fa323875"
   },
   "outputs": [
    {
     "data": {
      "text/plain": [
       "Text(0.5, 1.0, 'Sinusoidal Signal')"
      ]
     },
     "execution_count": 31,
     "metadata": {
      "tags": []
     },
     "output_type": "execute_result"
    },
    {
     "data": {
      "image/png": "[encoded data removed]",
      "text/plain": [
       "<Figure size 432x288 with 1 Axes>"
      ]
     },
     "metadata": {
      "needs_background": "light",
      "tags": []
     },
     "output_type": "display_data"
    }
   ],
   "source": [
    "plt.plot(m,r)\n",
    "plt.xlabel('time lag'+r'$\\tau$'+'--->')\n",
    "\n",
    "plt.ylabel('magnitude--->')\n",
    "plt.title('Sinusoidal Signal')"
   ]
  },
  {
   "cell_type": "code",
   "execution_count": null,
   "metadata": {
    "colab": {
     "base_uri": "https://localhost:8080/"
    },
    "id": "6EPQszA68tDA",
    "outputId": "9f20634b-5c13-467c-af28-cd86f9fc8f4c"
   },
   "outputs": [
    {
     "data": {
      "text/plain": [
       "511.25882627631074"
      ]
     },
     "execution_count": 32,
     "metadata": {
      "tags": []
     },
     "output_type": "execute_result"
    }
   ],
   "source": [
    "r[1024]"
   ]
  },
  {
   "cell_type": "markdown",
   "metadata": {
    "id": "IU4iLN5p9r3l"
   },
   "source": [
    "### Analysis of properties of autocorrelation:\n",
    "\n",
    "### 1. It is even function i.e., Rxx is symmetric \n",
    "\n",
    "### 2. Rxx is maximum at $\\tau$ = 0.\n",
    "\n",
    "### 3. The mean square value is 511.49 "
   ]
  },
  {
   "cell_type": "markdown",
   "metadata": {
    "id": "EQECiF9Y-YXq"
   },
   "source": [
    "### Q.3"
   ]
  },
  {
   "cell_type": "markdown",
   "metadata": {
    "id": "TkF3SQGZ-cHC"
   },
   "source": [
    "Add a noise signal with original sinal and plot it"
   ]
  },
  {
   "cell_type": "code",
   "execution_count": null,
   "metadata": {
    "id": "Mj4uFUmg-XTU"
   },
   "outputs": [],
   "source": [
    "ns = np.random.normal(-1,1,len(x))"
   ]
  },
  {
   "cell_type": "code",
   "execution_count": null,
   "metadata": {
    "id": "Kzd76Yii_A2X"
   },
   "outputs": [],
   "source": [
    "yn = y + ns"
   ]
  },
  {
   "cell_type": "code",
   "execution_count": null,
   "metadata": {
    "colab": {
     "base_uri": "https://localhost:8080/",
     "height": 312
    },
    "id": "_eGo_MTi_FXb",
    "outputId": "81fc0590-ae6c-4730-d4bd-e6d692dce9f9"
   },
   "outputs": [
    {
     "data": {
      "text/plain": [
       "Text(0.5, 1.0, 'Noisy Sinusoidal Signal')"
      ]
     },
     "execution_count": 35,
     "metadata": {
      "tags": []
     },
     "output_type": "execute_result"
    },
    {
     "data": {
      "image/png": "[encoded data removed]",
      "text/plain": [
       "<Figure size 432x288 with 1 Axes>"
      ]
     },
     "metadata": {
      "needs_background": "light",
      "tags": []
     },
     "output_type": "display_data"
    }
   ],
   "source": [
    "plt.plot(x,yn)\n",
    "plt.xlabel('time --->')\n",
    "\n",
    "plt.ylabel('magnitude--->')\n",
    "plt.title('Noisy Sinusoidal Signal')"
   ]
  },
  {
   "cell_type": "markdown",
   "metadata": {
    "id": "cjahIjno_Wnr"
   },
   "source": [
    "### Q.4"
   ]
  },
  {
   "cell_type": "markdown",
   "metadata": {
    "id": "qLAK7yyS_Y7E"
   },
   "source": [
    "### Find the cross-correlation function of the signal with noisy signal and verify the properties of crosscorrelation using plots"
   ]
  },
  {
   "cell_type": "code",
   "execution_count": null,
   "metadata": {
    "id": "nYqhpuKW_isc"
   },
   "outputs": [],
   "source": [
    "rn = np.correlate(y,yn,mode = 'full')"
   ]
  },
  {
   "cell_type": "code",
   "execution_count": null,
   "metadata": {
    "id": "NXFkDOkT_qAS"
   },
   "outputs": [],
   "source": [
    "m = np.linspace(-2*np.pi, 2*np.pi, 2*len(y)-1)"
   ]
  },
  {
   "cell_type": "code",
   "execution_count": null,
   "metadata": {
    "colab": {
     "base_uri": "https://localhost:8080/",
     "height": 316
    },
    "id": "EJtL2YFdAAUs",
    "outputId": "64ef19dc-d3b0-448f-e407-fe77ecd92073"
   },
   "outputs": [
    {
     "data": {
      "text/plain": [
       "Text(0.5, 1.0, 'Sinusoidal Signal')"
      ]
     },
     "execution_count": 38,
     "metadata": {
      "tags": []
     },
     "output_type": "execute_result"
    },
    {
     "data": {
      "image/png": "[encoded data removed]",
      "text/plain": [
       "<Figure size 432x288 with 1 Axes>"
      ]
     },
     "metadata": {
      "needs_background": "light",
      "tags": []
     },
     "output_type": "display_data"
    }
   ],
   "source": [
    "plt.plot(m,rn)\n",
    "plt.xlabel('time lag'+r'$\\tau$'+'--->')\n",
    "\n",
    "plt.ylabel('magnitude--->')\n",
    "plt.title('Sinusoidal Signal')"
   ]
  },
  {
   "cell_type": "code",
   "execution_count": null,
   "metadata": {
    "id": "vOJrev7gAWiP"
   },
   "outputs": [],
   "source": [
    "nn = np.correlate(ns,ns,mode = 'full')\n",
    "ry = np.correlate(y,y,mode = 'full')"
   ]
  },
  {
   "cell_type": "code",
   "execution_count": null,
   "metadata": {
    "colab": {
     "base_uri": "https://localhost:8080/"
    },
    "id": "ps7SECByBdgY",
    "outputId": "d295c563-b2c2-41a6-97e4-0d16148a86a8"
   },
   "outputs": [
    {
     "data": {
      "text/plain": [
       "1040.5185086204008"
      ]
     },
     "execution_count": 40,
     "metadata": {
      "tags": []
     },
     "output_type": "execute_result"
    }
   ],
   "source": [
    "nn[1024]"
   ]
  },
  {
   "cell_type": "code",
   "execution_count": null,
   "metadata": {
    "colab": {
     "base_uri": "https://localhost:8080/"
    },
    "id": "Lh57Jou-B237",
    "outputId": "325a217d-aa54-46f1-f229-fca1ad8c3b6b"
   },
   "outputs": [
    {
     "data": {
      "text/plain": [
       "511.25882627631074"
      ]
     },
     "execution_count": 41,
     "metadata": {
      "tags": []
     },
     "output_type": "execute_result"
    }
   ],
   "source": [
    "ry[1024]"
   ]
  },
  {
   "cell_type": "code",
   "execution_count": null,
   "metadata": {
    "colab": {
     "base_uri": "https://localhost:8080/"
    },
    "id": "0AqybDn5B6i-",
    "outputId": "1c253e06-2009-482b-c166-28f69e956c29"
   },
   "outputs": [
    {
     "data": {
      "text/plain": [
       "515.739406791862"
      ]
     },
     "execution_count": 42,
     "metadata": {
      "tags": []
     },
     "output_type": "execute_result"
    }
   ],
   "source": [
    "np.sqrt(nn[1024]*ry[1024]/2)"
   ]
  },
  {
   "cell_type": "code",
   "execution_count": null,
   "metadata": {
    "colab": {
     "base_uri": "https://localhost:8080/"
    },
    "id": "t-c5Dv0RCVf-",
    "outputId": "3a9e5b49-6246-4da8-f9ca-24233ce0f453"
   },
   "outputs": [
    {
     "data": {
      "text/plain": [
       "516.7559961149302"
      ]
     },
     "execution_count": 43,
     "metadata": {
      "tags": []
     },
     "output_type": "execute_result"
    }
   ],
   "source": [
    "np.max(rn)"
   ]
  },
  {
   "cell_type": "markdown",
   "metadata": {
    "id": "E5FoQCH8CZcr"
   },
   "source": [
    "### Analysis of properties of Cross-correlation\n",
    "\n",
    "### 1. It is an even function i.e, Rxx is symmetric \n",
    "\n",
    "### 2. $Rxx(\\tau)\\leq\\sqrt{Rxx(0)\\timesRyy(0)}$\n",
    "\n",
    "### 3. $Rxy(\\tau)\\leq\\frac{Rxx(0) + Ryy(0)}{2}$\n",
    "\n"
   ]
  },
  {
   "cell_type": "markdown",
   "metadata": {
    "id": "WKK4IQVWDVf6"
   },
   "source": [
    "### Q.5"
   ]
  },
  {
   "cell_type": "markdown",
   "metadata": {
    "id": "JI0GTY_BDffe"
   },
   "source": [
    "### Repeat 1-2 or 3-4 for any other signal on your choice  "
   ]
  },
  {
   "cell_type": "code",
   "execution_count": null,
   "metadata": {
    "id": "FIHIBlxmDqN9"
   },
   "outputs": [],
   "source": [
    "sig = np.repeat([0,1,2,1,0,1,2,1,0,1,2,1,0,1,2,1,0],128)\n"
   ]
  },
  {
   "cell_type": "code",
   "execution_count": null,
   "metadata": {
    "id": "0iYA06OHD7YC"
   },
   "outputs": [],
   "source": [
    "sig = np.repeat([0,0,1,2,0,0,1,1,0,0,1,1,0,0,1,1,0,0,1,1],128)"
   ]
  },
  {
   "cell_type": "code",
   "execution_count": null,
   "metadata": {
    "colab": {
     "base_uri": "https://localhost:8080/",
     "height": 282
    },
    "id": "VDGy8lO5EXdn",
    "outputId": "06ae318d-61fe-4b5c-87a1-728ef2d3dcb6"
   },
   "outputs": [
    {
     "data": {
      "text/plain": [
       "[<matplotlib.lines.Line2D at 0x7f96db954b50>]"
      ]
     },
     "execution_count": 48,
     "metadata": {
      "tags": []
     },
     "output_type": "execute_result"
    },
    {
     "data": {
      "image/png": "[encoded data removed]",
      "text/plain": [
       "<Figure size 432x288 with 1 Axes>"
      ]
     },
     "metadata": {
      "needs_background": "light",
      "tags": []
     },
     "output_type": "display_data"
    }
   ],
   "source": [
    "plt.plot(sig)"
   ]
  },
  {
   "cell_type": "code",
   "execution_count": null,
   "metadata": {
    "colab": {
     "base_uri": "https://localhost:8080/",
     "height": 316
    },
    "id": "CPIZboLxEiBG",
    "outputId": "68cb8543-283b-4317-cea8-6d546046fc33"
   },
   "outputs": [
    {
     "data": {
      "text/plain": [
       "Text(0.5, 1.0, 'Binary Signal')"
      ]
     },
     "execution_count": 51,
     "metadata": {
      "tags": []
     },
     "output_type": "execute_result"
    },
    {
     "data": {
      "image/png": "[encoded data removed]",
      "text/plain": [
       "<Figure size 432x288 with 1 Axes>"
      ]
     },
     "metadata": {
      "needs_background": "light",
      "tags": []
     },
     "output_type": "display_data"
    }
   ],
   "source": [
    "r_sig = np.correlate(sig,sig,mode = 'full')\n",
    "m_sig = np.linspace(-2*np.pi, 2*np.pi, 2*len(sig)-1)\n",
    "plt.plot(m,r)\n",
    "plt.xlabel(\"time lag\" + r\"$\\tau$\" + \"--->\")\n",
    "plt.ylabel(\"magnitude --->\")\n",
    "plt.title(\"Binary Signal\")"
   ]
  },
  {
   "cell_type": "code",
   "execution_count": null,
   "metadata": {
    "colab": {
     "base_uri": "https://localhost:8080/"
    },
    "id": "rlrEsIOWFmMD",
    "outputId": "7af2b1cf-20d7-429b-fd24-993aa1cb8ede"
   },
   "outputs": [
    {
     "data": {
      "text/plain": [
       "638"
      ]
     },
     "execution_count": 52,
     "metadata": {
      "tags": []
     },
     "output_type": "execute_result"
    }
   ],
   "source": [
    "r_sig[1024]"
   ]
  },
  {
   "cell_type": "markdown",
   "metadata": {
    "id": "FMyGPX_GFpkg"
   },
   "source": [
    "### Analysis of properties of correlation \n",
    "\n",
    "### 1. It is an even function \n",
    "\n",
    "### 2. Rxx is maximum at $\\tau$ = 0\n",
    "\n",
    "### 3. The mean square is 510"
   ]
  },
  {
   "cell_type": "markdown",
   "metadata": {
    "id": "OtGQNjB3GBMl"
   },
   "source": [
    "### Conclusion \n",
    "\n",
    "In this practical I wrote a program which generated a sinusoidal signal, autocorrelation and correlation between noisy sinusoidal signal and sinusoidal signal and also observed the properties of the same.  "
   ]
  }
 ],
 "metadata": {
  "colab": {
   "name": "I081_Aniruddh Kulkarni_RPET_Practical 5.ipynb",
   "provenance": []
  },
  "kernelspec": {
   "display_name": "Python 3",
   "language": "python",
   "name": "python3"
  },
  "language_info": {
   "codemirror_mode": {
    "name": "ipython",
    "version": 3
   },
   "file_extension": ".py",
   "mimetype": "text/x-python",
   "name": "python",
   "nbconvert_exporter": "python",
   "pygments_lexer": "ipython3",
   "version": "3.8.5"
  }
 },
 "nbformat": 4,
 "nbformat_minor": 1
}
