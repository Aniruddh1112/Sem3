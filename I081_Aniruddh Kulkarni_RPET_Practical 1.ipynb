{
 "cells": [
  {
   "cell_type": "markdown",
   "metadata": {},
   "source": [
    "# Name: Aniruddh Kulkarni"
   ]
  },
  {
   "cell_type": "markdown",
   "metadata": {},
   "source": [
    "# Roll No: I081"
   ]
  },
  {
   "cell_type": "markdown",
   "metadata": {},
   "source": [
    "# Batch: C3"
   ]
  },
  {
   "cell_type": "markdown",
   "metadata": {},
   "source": [
    "# Semester: III Semester "
   ]
  },
  {
   "cell_type": "markdown",
   "metadata": {},
   "source": [
    "# Branch: CS (AI)"
   ]
  },
  {
   "cell_type": "markdown",
   "metadata": {},
   "source": [
    "# Aim of the experiment:\n",
    "\n",
    "\n",
    "\n",
    "1. Write a program of tossing a coin (hint: use random library of python)\n",
    "\n",
    "\n",
    "\n",
    "(i) Take input from user asking “How many tosses you want to do?”\n",
    "(ii) Print ‘Heads/ Tails’ as output of every toss\n",
    "(iii) Count and print the total number of Heads/ Tails appeared.\n",
    "\n",
    "\n",
    "2. Write a program to create probability distribution table of tossing 2/3/4/5 coins. Plot the same. Hence, find the mean and variance in each case. Also obtain cumulative distribution table and its plot"
   ]
  },
  {
   "cell_type": "code",
   "execution_count": 2,
   "metadata": {},
   "outputs": [],
   "source": [
    "from random import randint"
   ]
  },
  {
   "cell_type": "code",
   "execution_count": 3,
   "metadata": {},
   "outputs": [
    {
     "name": "stdout",
     "output_type": "stream",
     "text": [
      "How many tosses you want to do? \n",
      "7\n"
     ]
    }
   ],
   "source": [
    "x = int(input('How many tosses you want to do? \\n'))"
   ]
  },
  {
   "cell_type": "code",
   "execution_count": 4,
   "metadata": {},
   "outputs": [
    {
     "name": "stdout",
     "output_type": "stream",
     "text": [
      "0\n",
      "1\n",
      "0\n",
      "0\n",
      "1\n",
      "0\n",
      "0\n"
     ]
    }
   ],
   "source": [
    "for i in range (x):\n",
    "    res = randint(0,1)\n",
    "    print(res)"
   ]
  },
  {
   "cell_type": "code",
   "execution_count": 5,
   "metadata": {},
   "outputs": [
    {
     "name": "stdout",
     "output_type": "stream",
     "text": [
      "Tails\n",
      "Tails\n",
      "Tails\n",
      "Tails\n",
      "Tails\n",
      "Tails\n",
      "Heads\n",
      "The Heads are:  1 and Tails are:  6\n"
     ]
    }
   ],
   "source": [
    "heads = 0\n",
    "tails = 0\n",
    "for i in range (x):\n",
    "    res = randint(0,1)\n",
    "    #print(res)\n",
    "    if res == 1:\n",
    "        print('Heads')\n",
    "        heads += 1\n",
    "    else:\n",
    "        print('Tails')\n",
    "        tails += 1\n",
    "print('The Heads are: ', heads, 'and','Tails are: ',tails)"
   ]
  },
  {
   "cell_type": "code",
   "execution_count": 11,
   "metadata": {},
   "outputs": [],
   "source": [
    "import math"
   ]
  },
  {
   "cell_type": "code",
   "execution_count": 12,
   "metadata": {},
   "outputs": [
    {
     "data": {
      "text/plain": [
       "10.0"
      ]
     },
     "execution_count": 12,
     "metadata": {},
     "output_type": "execute_result"
    }
   ],
   "source": [
    "import scipy.special\n",
    "\n",
    "scipy.special.comb(5,2) #SC2"
   ]
  },
  {
   "cell_type": "markdown",
   "metadata": {},
   "source": [
    "# Two Coins tossed"
   ]
  },
  {
   "cell_type": "code",
   "execution_count": 13,
   "metadata": {},
   "outputs": [
    {
     "name": "stdout",
     "output_type": "stream",
     "text": [
      "0 0.125\n",
      "1 0.375\n",
      "2 0.375\n",
      "3 0.125\n"
     ]
    }
   ],
   "source": [
    "x = 3\n",
    "for i in range(x+1):\n",
    "    print(i,math.comb(x,i)/2**x)"
   ]
  },
  {
   "cell_type": "markdown",
   "metadata": {},
   "source": [
    "# Probability Distribution "
   ]
  },
  {
   "cell_type": "code",
   "execution_count": 15,
   "metadata": {},
   "outputs": [
    {
     "name": "stdout",
     "output_type": "stream",
     "text": [
      "For how many coins you want to create probability distribution table? \n",
      "2\n",
      "x p(x)\n",
      "0 0.25\n",
      "1 0.5\n",
      "2 0.25\n"
     ]
    }
   ],
   "source": [
    "X = []\n",
    "PX = []\n",
    "cx = 0\n",
    "CX = []\n",
    "x = int(input('For how many coins you want to create probability distribution table? \\n'))\n",
    "print('x p(x)')\n",
    "for i in range (x+1):\n",
    "    print(i,scipy.special.comb(x,i)/2**x)\n",
    "    X.append(i)\n",
    "    px = scipy.special.comb(x,i)/2**x\n",
    "    cx = cx + px\n",
    "    CX.append(cx)\n",
    "    PX.append(px)"
   ]
  },
  {
   "cell_type": "code",
   "execution_count": 17,
   "metadata": {},
   "outputs": [
    {
     "data": {
      "text/plain": [
       "Text(0.5, 1.0, 'Probability Distribution Plot of 2 coins tossed')"
      ]
     },
     "execution_count": 17,
     "metadata": {},
     "output_type": "execute_result"
    },
    {
     "data": {
      "image/png": "[encoded data removed]",
      "text/plain": [
       "<Figure size 432x288 with 1 Axes>"
      ]
     },
     "metadata": {
      "needs_background": "light"
     },
     "output_type": "display_data"
    }
   ],
   "source": [
    "import matplotlib.pyplot as plt\n",
    "plt.stem(X,PX, use_line_collection = True)\n",
    "plt.xlabel('x (Number of Heads) - - - > ')\n",
    "plt.ylabel('p(x) - - - >')\n",
    "plt.title('Probability Distribution Plot of 2 coins tossed')"
   ]
  },
  {
   "cell_type": "markdown",
   "metadata": {},
   "source": [
    "# Cumulative Distribution "
   ]
  },
  {
   "cell_type": "code",
   "execution_count": 18,
   "metadata": {},
   "outputs": [
    {
     "name": "stdout",
     "output_type": "stream",
     "text": [
      "CDF values are: \n",
      "x P(x)\n",
      "0 0.25\n",
      "1 0.75\n",
      "2 1.0\n"
     ]
    }
   ],
   "source": [
    "print('CDF values are: ')\n",
    "print('x','P(x)')\n",
    "for i, xx in enumerate (CX):\n",
    "    print(i,xx)"
   ]
  },
  {
   "cell_type": "code",
   "execution_count": 20,
   "metadata": {},
   "outputs": [
    {
     "data": {
      "text/plain": [
       "Text(0.5, 1.0, 'Cumulative Distribution Plot of 2 coins tossed')"
      ]
     },
     "execution_count": 20,
     "metadata": {},
     "output_type": "execute_result"
    },
    {
     "data": {
      "image/png": "[encoded data removed]",
      "text/plain": [
       "<Figure size 432x288 with 1 Axes>"
      ]
     },
     "metadata": {
      "needs_background": "light"
     },
     "output_type": "display_data"
    }
   ],
   "source": [
    "plt.stem(X,CX, use_line_collection = True)\n",
    "plt.xlabel('x(Number of Heads) - - - >')\n",
    "plt.ylabel('p(x) - - - >')\n",
    "plt.title('Cumulative Distribution Plot of 2 coins tossed')"
   ]
  },
  {
   "cell_type": "code",
   "execution_count": 21,
   "metadata": {},
   "outputs": [
    {
     "name": "stdout",
     "output_type": "stream",
     "text": [
      "CDF values are: \n",
      "x P(x)\n",
      "0 0.25\n",
      "1 0.75\n",
      "2 1.0\n"
     ]
    }
   ],
   "source": [
    "print('CDF values are: ')\n",
    "print('x','P(x)')\n",
    "for i, xx in enumerate (CX):\n",
    "    print(i,xx)"
   ]
  },
  {
   "cell_type": "markdown",
   "metadata": {},
   "source": [
    "# Mean and Variance"
   ]
  },
  {
   "cell_type": "code",
   "execution_count": 22,
   "metadata": {},
   "outputs": [
    {
     "name": "stdout",
     "output_type": "stream",
     "text": [
      "The mean value is:  1.0\n",
      "The variance value is:  0.5\n"
     ]
    }
   ],
   "source": [
    "EX = 0\n",
    "EXX = 0\n",
    "for i, xx in enumerate(PX):\n",
    "    ex = i*xx\n",
    "    exx = i**2*xx\n",
    "    EX = EX + ex\n",
    "    EXX = EXX + exx\n",
    "Var = EXX-EX**2\n",
    "print('The mean value is: ',EX)\n",
    "print('The variance value is: ',Var)"
   ]
  },
  {
   "cell_type": "markdown",
   "metadata": {},
   "source": [
    "# Three Coins tossed"
   ]
  },
  {
   "cell_type": "code",
   "execution_count": 29,
   "metadata": {},
   "outputs": [
    {
     "name": "stdout",
     "output_type": "stream",
     "text": [
      "For how many coins you want to create probability distribution table? \n",
      "3\n",
      "x p(x)\n",
      "0 0.125\n",
      "1 0.375\n",
      "2 0.375\n",
      "3 0.125\n"
     ]
    }
   ],
   "source": [
    "X = []\n",
    "PX = []\n",
    "cx = 0\n",
    "CX = []\n",
    "x = int(input('For how many coins you want to create probability distribution table? \\n'))\n",
    "print('x p(x)')\n",
    "for i in range (x+1):\n",
    "    print(i,scipy.special.comb(x,i)/2**x)\n",
    "    X.append(i)\n",
    "    px = scipy.special.comb(x,i)/2**x\n",
    "    cx = cx + px\n",
    "    CX.append(cx)\n",
    "    PX.append(px)"
   ]
  },
  {
   "cell_type": "markdown",
   "metadata": {},
   "source": [
    "# Probability Distribution "
   ]
  },
  {
   "cell_type": "code",
   "execution_count": 28,
   "metadata": {},
   "outputs": [
    {
     "data": {
      "text/plain": [
       "Text(0.5, 1.0, 'Probability Distribution Plot of 3 coins tossed')"
      ]
     },
     "execution_count": 28,
     "metadata": {},
     "output_type": "execute_result"
    },
    {
     "data": {
      "image/png": "[encoded data removed]",
      "text/plain": [
       "<Figure size 432x288 with 1 Axes>"
      ]
     },
     "metadata": {
      "needs_background": "light"
     },
     "output_type": "display_data"
    }
   ],
   "source": [
    "import matplotlib.pyplot as plt\n",
    "plt.stem(X,PX,use_line_collection = True)\n",
    "plt.xlabel('x (Number of Heads) - - - > ')\n",
    "plt.ylabel('p(x) - - - >')\n",
    "plt.title('Probability Distribution Plot of 3 coins tossed')"
   ]
  },
  {
   "cell_type": "markdown",
   "metadata": {},
   "source": [
    "# Cumulative Distribution "
   ]
  },
  {
   "cell_type": "code",
   "execution_count": 24,
   "metadata": {},
   "outputs": [
    {
     "name": "stdout",
     "output_type": "stream",
     "text": [
      "CDF values are: \n",
      "x P(x)\n",
      "0 0.125\n",
      "1 0.5\n",
      "2 0.875\n",
      "3 1.0\n"
     ]
    },
    {
     "data": {
      "text/plain": [
       "Text(0.5, 1.0, 'Cumulative Distribution Plot of 3 coins tossed')"
      ]
     },
     "execution_count": 24,
     "metadata": {},
     "output_type": "execute_result"
    },
    {
     "data": {
      "image/png": "[encoded data removed]",
      "text/plain": [
       "<Figure size 432x288 with 1 Axes>"
      ]
     },
     "metadata": {
      "needs_background": "light"
     },
     "output_type": "display_data"
    }
   ],
   "source": [
    "print('CDF values are: ')\n",
    "print('x','P(x)')\n",
    "for i, xx in enumerate (CX):\n",
    "    print(i,xx)\n",
    "    \n",
    "plt.stem(X,CX, use_line_collection = True)\n",
    "plt.xlabel('x(Number of Heads) - - - >')\n",
    "plt.ylabel('p(x) - - - >')\n",
    "plt.title('Cumulative Distribution Plot of 3 coins tossed')"
   ]
  },
  {
   "cell_type": "markdown",
   "metadata": {},
   "source": [
    "# Mean and Variance "
   ]
  },
  {
   "cell_type": "code",
   "execution_count": 25,
   "metadata": {},
   "outputs": [
    {
     "name": "stdout",
     "output_type": "stream",
     "text": [
      "The mean value is:  1.5\n",
      "The variance value is:  0.75\n"
     ]
    }
   ],
   "source": [
    "EX = 0\n",
    "EXX = 0\n",
    "for i, xx in enumerate(PX):\n",
    "    ex = i*xx\n",
    "    exx = i**2*xx\n",
    "    EX = EX + ex\n",
    "    EXX = EXX + exx\n",
    "Var = EXX-EX**2\n",
    "print('The mean value is: ',EX)\n",
    "print('The variance value is: ',Var)"
   ]
  },
  {
   "cell_type": "markdown",
   "metadata": {},
   "source": [
    "# 4 coins tossed "
   ]
  },
  {
   "cell_type": "code",
   "execution_count": 31,
   "metadata": {},
   "outputs": [
    {
     "name": "stdout",
     "output_type": "stream",
     "text": [
      "For how many coins you want to create probability distribution table? \n",
      "4\n",
      "x p(x)\n",
      "0 0.0625\n",
      "1 0.25\n",
      "2 0.375\n",
      "3 0.25\n",
      "4 0.0625\n"
     ]
    }
   ],
   "source": [
    "X = []\n",
    "PX = []\n",
    "cx = 0\n",
    "CX = []\n",
    "x = int(input('For how many coins you want to create probability distribution table? \\n'))\n",
    "print('x p(x)')\n",
    "for i in range (x+1):\n",
    "    print(i,scipy.special.comb(x,i)/2**x)\n",
    "    X.append(i)\n",
    "    px = scipy.special.comb(x,i)/2**x\n",
    "    cx = cx + px\n",
    "    CX.append(cx)\n",
    "    PX.append(px)"
   ]
  },
  {
   "cell_type": "markdown",
   "metadata": {},
   "source": [
    "# Probability Distribution "
   ]
  },
  {
   "cell_type": "code",
   "execution_count": 30,
   "metadata": {},
   "outputs": [
    {
     "data": {
      "text/plain": [
       "Text(0.5, 1.0, 'Probability Distribution Plot of 4 coins tossed')"
      ]
     },
     "execution_count": 30,
     "metadata": {},
     "output_type": "execute_result"
    },
    {
     "data": {
      "image/png": "[encoded data removed]",
      "text/plain": [
       "<Figure size 432x288 with 1 Axes>"
      ]
     },
     "metadata": {
      "needs_background": "light"
     },
     "output_type": "display_data"
    }
   ],
   "source": [
    "import matplotlib.pyplot as plt\n",
    "plt.stem(X,PX,use_line_collection = True)\n",
    "plt.xlabel('x (Number of Heads) - - - > ')\n",
    "plt.ylabel('p(x) - - - >')\n",
    "plt.title('Probability Distribution Plot of 4 coins tossed')"
   ]
  },
  {
   "cell_type": "markdown",
   "metadata": {},
   "source": [
    "# Cumulative Distribution "
   ]
  },
  {
   "cell_type": "code",
   "execution_count": 32,
   "metadata": {},
   "outputs": [
    {
     "name": "stdout",
     "output_type": "stream",
     "text": [
      "CDF values are: \n",
      "x P(x)\n",
      "0 0.0625\n",
      "1 0.3125\n",
      "2 0.6875\n",
      "3 0.9375\n",
      "4 1.0\n"
     ]
    },
    {
     "data": {
      "text/plain": [
       "Text(0.5, 1.0, 'Cumulative Distribution Plot of 4 coins tossed')"
      ]
     },
     "execution_count": 32,
     "metadata": {},
     "output_type": "execute_result"
    },
    {
     "data": {
      "image/png": "[encoded data removed]",
      "text/plain": [
       "<Figure size 432x288 with 1 Axes>"
      ]
     },
     "metadata": {
      "needs_background": "light"
     },
     "output_type": "display_data"
    }
   ],
   "source": [
    "print('CDF values are: ')\n",
    "print('x','P(x)')\n",
    "for i, xx in enumerate (CX):\n",
    "    print(i,xx)\n",
    "    \n",
    "plt.stem(X,CX, use_line_collection = True)\n",
    "plt.xlabel('x(Number of Heads) - - - >')\n",
    "plt.ylabel('p(x) - - - >')\n",
    "plt.title('Cumulative Distribution Plot of 4 coins tossed')"
   ]
  },
  {
   "cell_type": "markdown",
   "metadata": {},
   "source": [
    "# Mean and Variance "
   ]
  },
  {
   "cell_type": "code",
   "execution_count": 33,
   "metadata": {},
   "outputs": [
    {
     "name": "stdout",
     "output_type": "stream",
     "text": [
      "The mean value is:  2.0\n",
      "The variance value is:  1.0\n"
     ]
    }
   ],
   "source": [
    "EX = 0\n",
    "EXX = 0\n",
    "for i, xx in enumerate(PX):\n",
    "    ex = i*xx\n",
    "    exx = i**2*xx\n",
    "    EX = EX + ex\n",
    "    EXX = EXX + exx\n",
    "Var = EXX-EX**2\n",
    "print('The mean value is: ',EX)\n",
    "print('The variance value is: ',Var)"
   ]
  },
  {
   "cell_type": "markdown",
   "metadata": {},
   "source": [
    "# 5 Coins tossed"
   ]
  },
  {
   "cell_type": "code",
   "execution_count": 34,
   "metadata": {},
   "outputs": [
    {
     "name": "stdout",
     "output_type": "stream",
     "text": [
      "For how many coins you want to create probability distribution table? \n",
      "5\n",
      "x p(x)\n",
      "0 0.03125\n",
      "1 0.15625\n",
      "2 0.3125\n",
      "3 0.3125\n",
      "4 0.15625\n",
      "5 0.03125\n"
     ]
    }
   ],
   "source": [
    "X = []\n",
    "PX = []\n",
    "cx = 0\n",
    "CX = []\n",
    "x = int(input('For how many coins you want to create probability distribution table? \\n'))\n",
    "print('x p(x)')\n",
    "for i in range (x+1):\n",
    "    print(i,scipy.special.comb(x,i)/2**x)\n",
    "    X.append(i)\n",
    "    px = scipy.special.comb(x,i)/2**x\n",
    "    cx = cx + px\n",
    "    CX.append(cx)\n",
    "    PX.append(px)"
   ]
  },
  {
   "cell_type": "markdown",
   "metadata": {},
   "source": [
    "# Probability Distribution"
   ]
  },
  {
   "cell_type": "code",
   "execution_count": 35,
   "metadata": {},
   "outputs": [
    {
     "data": {
      "text/plain": [
       "Text(0.5, 1.0, 'Probability Distribution Plot of 5 coins tossed')"
      ]
     },
     "execution_count": 35,
     "metadata": {},
     "output_type": "execute_result"
    },
    {
     "data": {
      "image/png": "[encoded data removed]",
      "text/plain": [
       "<Figure size 432x288 with 1 Axes>"
      ]
     },
     "metadata": {
      "needs_background": "light"
     },
     "output_type": "display_data"
    }
   ],
   "source": [
    "import matplotlib.pyplot as plt\n",
    "plt.stem(X,PX,use_line_collection = True)\n",
    "plt.xlabel('x (Number of Heads) - - - > ')\n",
    "plt.ylabel('p(x) - - - >')\n",
    "plt.title('Probability Distribution Plot of 5 coins tossed')"
   ]
  },
  {
   "cell_type": "markdown",
   "metadata": {},
   "source": [
    "# Cumulative Distribution"
   ]
  },
  {
   "cell_type": "code",
   "execution_count": 36,
   "metadata": {},
   "outputs": [
    {
     "name": "stdout",
     "output_type": "stream",
     "text": [
      "CDF values are: \n",
      "x P(x)\n",
      "0 0.03125\n",
      "1 0.1875\n",
      "2 0.5\n",
      "3 0.8125\n",
      "4 0.96875\n",
      "5 1.0\n"
     ]
    },
    {
     "data": {
      "text/plain": [
       "Text(0.5, 1.0, 'Cumulative Distribution Plot of 5 coins tossed')"
      ]
     },
     "execution_count": 36,
     "metadata": {},
     "output_type": "execute_result"
    },
    {
     "data": {
      "image/png": "[encoded data removed]",
      "text/plain": [
       "<Figure size 432x288 with 1 Axes>"
      ]
     },
     "metadata": {
      "needs_background": "light"
     },
     "output_type": "display_data"
    }
   ],
   "source": [
    "print('CDF values are: ')\n",
    "print('x','P(x)')\n",
    "for i, xx in enumerate (CX):\n",
    "    print(i,xx)\n",
    "    \n",
    "plt.stem(X,CX, use_line_collection = True)\n",
    "plt.xlabel('x(Number of Heads) - - - >')\n",
    "plt.ylabel('p(x) - - - >')\n",
    "plt.title('Cumulative Distribution Plot of 5 coins tossed')"
   ]
  },
  {
   "cell_type": "markdown",
   "metadata": {},
   "source": [
    "# Mean and Variance "
   ]
  },
  {
   "cell_type": "code",
   "execution_count": 37,
   "metadata": {},
   "outputs": [
    {
     "name": "stdout",
     "output_type": "stream",
     "text": [
      "The mean value is:  2.5\n",
      "The variance value is:  1.25\n"
     ]
    }
   ],
   "source": [
    "EX = 0\n",
    "EXX = 0\n",
    "for i, xx in enumerate(PX):\n",
    "    ex = i*xx\n",
    "    exx = i**2*xx\n",
    "    EX = EX + ex\n",
    "    EXX = EXX + exx\n",
    "Var = EXX-EX**2\n",
    "print('The mean value is: ',EX)\n",
    "print('The variance value is: ',Var)"
   ]
  },
  {
   "cell_type": "markdown",
   "metadata": {},
   "source": [
    "# 3.For the probability density (mass) function given below, create probability distribution table, plot the same. Hence find mean and variance of the same. Also obtain cumulative distribution table and its plot.\n",
    "\n",
    "$ \\hspace{50mm} p(x)= \\frac {x^2}{55}, x=1,2,3,4,5 $"
   ]
  },
  {
   "cell_type": "code",
   "execution_count": 39,
   "metadata": {},
   "outputs": [],
   "source": [
    "import numpy as np\n",
    "x = [1,2,3,4,5]\n",
    "x = np.array(x)"
   ]
  },
  {
   "cell_type": "code",
   "execution_count": 40,
   "metadata": {},
   "outputs": [],
   "source": [
    "px = (x**2)/55"
   ]
  },
  {
   "cell_type": "code",
   "execution_count": 41,
   "metadata": {},
   "outputs": [
    {
     "data": {
      "text/plain": [
       "array([0.01818182, 0.07272727, 0.16363636, 0.29090909, 0.45454545])"
      ]
     },
     "execution_count": 41,
     "metadata": {},
     "output_type": "execute_result"
    }
   ],
   "source": [
    "px "
   ]
  },
  {
   "cell_type": "code",
   "execution_count": 42,
   "metadata": {},
   "outputs": [
    {
     "name": "stdout",
     "output_type": "stream",
     "text": [
      "PDF values are: \n",
      "x p(x)\n",
      "0 0.01818181818181818\n",
      "1 0.07272727272727272\n",
      "2 0.16363636363636364\n",
      "3 0.2909090909090909\n",
      "4 0.45454545454545453\n"
     ]
    }
   ],
   "source": [
    "print('PDF values are: ')\n",
    "print('x','p(x)')\n",
    "for i,xx in enumerate(px):\n",
    "    print(i,xx)"
   ]
  },
  {
   "cell_type": "code",
   "execution_count": 43,
   "metadata": {},
   "outputs": [
    {
     "name": "stdout",
     "output_type": "stream",
     "text": [
      "Mean of the pdf is:  1.0644628099173516\n"
     ]
    }
   ],
   "source": [
    "print('Mean of the pdf is: ',np.sum(x*x*px)-np.sum(x*px)**2)"
   ]
  },
  {
   "cell_type": "code",
   "execution_count": 44,
   "metadata": {},
   "outputs": [
    {
     "data": {
      "text/plain": [
       "<StemContainer object of 3 artists>"
      ]
     },
     "execution_count": 44,
     "metadata": {},
     "output_type": "execute_result"
    },
    {
     "data": {
      "image/png": "[encoded data removed]",
      "text/plain": [
       "<Figure size 432x288 with 1 Axes>"
      ]
     },
     "metadata": {
      "needs_background": "light"
     },
     "output_type": "display_data"
    }
   ],
   "source": [
    "plt.stem(x,px)"
   ]
  },
  {
   "cell_type": "code",
   "execution_count": 46,
   "metadata": {},
   "outputs": [
    {
     "data": {
      "text/plain": [
       "Text(0.5, 1.0, 'Cumulative Distribution Plot of 2 coins tossed')"
      ]
     },
     "execution_count": 46,
     "metadata": {},
     "output_type": "execute_result"
    },
    {
     "data": {
      "image/png": "[encoded data removed]",
      "text/plain": [
       "<Figure size 1080x576 with 2 Axes>"
      ]
     },
     "metadata": {
      "needs_background": "light"
     },
     "output_type": "display_data"
    }
   ],
   "source": [
    "import matplotlib.pyplot as plit\n",
    "plt.figure(figsize = (15,8))\n",
    "plt.subplot(2,1,1)\n",
    "plt.stem(X,PX, use_line_collection = True)\n",
    "plt.xlabel('x (Number of Heads) - - - > ')\n",
    "plt.ylabel('p(x) - - - >')\n",
    "plt.title('Probability Distribution Plot of 2 coins tossed')\n",
    "plt.subplot(2,1,2)\n",
    "plt.stem(X,CX, use_line_collection = True)\n",
    "plt.xlabel('x(Number of Heads) - - - >')\n",
    "plt.ylabel('p(x) - - - >')\n",
    "plt.title('Cumulative Distribution Plot of 2 coins tossed')"
   ]
  },
  {
   "cell_type": "markdown",
   "metadata": {},
   "source": [
    "# Conclusion\n",
    "\n",
    "\n",
    "I learnt to use and implement basic matplotlib functions and also brushed upon concepts in python which I had learnt in the previous semester"
   ]
  }
 ],
 "metadata": {
  "kernelspec": {
   "display_name": "Python 3",
   "language": "python",
   "name": "python3"
  },
  "language_info": {
   "codemirror_mode": {
    "name": "ipython",
    "version": 3
   },
   "file_extension": ".py",
   "mimetype": "text/x-python",
   "name": "python",
   "nbconvert_exporter": "python",
   "pygments_lexer": "ipython3",
   "version": "3.8.5"
  }
 },
 "nbformat": 4,
 "nbformat_minor": 4
}
